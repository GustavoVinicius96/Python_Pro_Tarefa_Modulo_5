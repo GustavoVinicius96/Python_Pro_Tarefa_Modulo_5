{
 "cells": [
  {
   "cell_type": "code",
   "execution_count": 1,
   "id": "5d57d633",
   "metadata": {},
   "outputs": [
    {
     "name": "stdout",
     "output_type": "stream",
     "text": [
      "************* Module app_multiplo\n",
      "app_multiplo.py:1:0: C0114: Missing module docstring (missing-module-docstring)\n",
      "app_multiplo.py:3:0: C0116: Missing function or method docstring (missing-function-docstring)\n",
      "\n",
      "-----------------------------------\n",
      "\n",
      "Your code has been rated at 7.14/10\n",
      "\n",
      "\n",
      "\n"
     ]
    }
   ],
   "source": [
    "# Executa o lint na aplicação app_multiplo para verificação do código\n",
    "!python -m pylint app_multiplo"
   ]
  },
  {
   "cell_type": "code",
   "execution_count": 4,
   "id": "04b4307e",
   "metadata": {},
   "outputs": [
    {
     "name": "stdout",
     "output_type": "stream",
     "text": [
      "************* Module app_multiplo\n",
      "app_multiplo.py:1:0: C0114: Missing module docstring (missing-module-docstring)\n",
      "\n",
      "------------------------------------------------------------------\n",
      "\n",
      "Your code has been rated at 8.57/10 (previous run: 7.14/10, +1.43)\n",
      "\n",
      "\n",
      "\n"
     ]
    }
   ],
   "source": [
    "# Execução após as correções sugeridas\n",
    "!python -m pylint app_multiplo"
   ]
  },
  {
   "cell_type": "code",
   "execution_count": 2,
   "id": "91928be1",
   "metadata": {},
   "outputs": [
    {
     "name": "stdout",
     "output_type": "stream",
     "text": [
      "************* Module funcoes_multiplo\n",
      "funcoes_multiplo.py:1:0: C0114: Missing module docstring (missing-module-docstring)\n",
      "funcoes_multiplo.py:10:4: R1705: Unnecessary \"elif\" after \"return\" (no-else-return)\n",
      "\n",
      "-----------------------------------\n",
      "\n",
      "Your code has been rated at 7.50/10\n",
      "\n",
      "\n",
      "\n"
     ]
    }
   ],
   "source": [
    "# Executa o lint na aplicação funcoes_multiplo para verificação do código\n",
    "!python -m pylint funcoes_multiplo"
   ]
  },
  {
   "cell_type": "code",
   "execution_count": 5,
   "id": "635d2174",
   "metadata": {},
   "outputs": [
    {
     "name": "stdout",
     "output_type": "stream",
     "text": [
      "************* Module funcoes_multiplo\n",
      "funcoes_multiplo.py:13:4: R1705: Unnecessary \"elif\" after \"return\" (no-else-return)\n",
      "\n",
      "------------------------------------------------------------------\n",
      "\n",
      "Your code has been rated at 8.75/10 (previous run: 7.50/10, +1.25)\n",
      "\n",
      "\n",
      "\n"
     ]
    }
   ],
   "source": [
    "# Execução após as correções sugeridas\n",
    "!python -m pylint funcoes_multiplo"
   ]
  },
  {
   "cell_type": "code",
   "execution_count": 3,
   "id": "8c582b17",
   "metadata": {},
   "outputs": [
    {
     "name": "stdout",
     "output_type": "stream",
     "text": [
      "************* Module test_multiplo\n",
      "test_multiplo.py:1:0: C0114: Missing module docstring (missing-module-docstring)\n",
      "test_multiplo.py:3:0: C0116: Missing function or method docstring (missing-function-docstring)\n",
      "test_multiplo.py:7:0: C0116: Missing function or method docstring (missing-function-docstring)\n",
      "test_multiplo.py:11:0: C0116: Missing function or method docstring (missing-function-docstring)\n",
      "test_multiplo.py:15:0: C0116: Missing function or method docstring (missing-function-docstring)\n",
      "\n",
      "-----------------------------------\n",
      "\n",
      "Your code has been rated at 6.15/10\n",
      "\n",
      "\n",
      "\n"
     ]
    }
   ],
   "source": [
    "# Executa o lint na aplicação test_multiplo para verificação do código\n",
    "!python -m pylint test_multiplo"
   ]
  },
  {
   "cell_type": "code",
   "execution_count": 3,
   "id": "c530d336",
   "metadata": {},
   "outputs": [
    {
     "name": "stdout",
     "output_type": "stream",
     "text": [
      "************* Module test_multiplo\n",
      "test_multiplo.py:1:0: C0114: Missing module docstring (missing-module-docstring)\n",
      "\n",
      "------------------------------------------------------------------\n",
      "\n",
      "Your code has been rated at 9.23/10 (previous run: 6.15/10, +3.08)\n",
      "\n",
      "\n",
      "\n"
     ]
    }
   ],
   "source": [
    "# Execução após as correções sugeridas\n",
    "!python -m pylint test_multiplo"
   ]
  },
  {
   "cell_type": "code",
   "execution_count": null,
   "id": "71f07dfe",
   "metadata": {},
   "outputs": [],
   "source": []
  },
  {
   "cell_type": "code",
   "execution_count": null,
   "id": "3bc3c539",
   "metadata": {},
   "outputs": [],
   "source": []
  },
  {
   "cell_type": "code",
   "execution_count": null,
   "id": "700f89f3",
   "metadata": {},
   "outputs": [],
   "source": []
  },
  {
   "cell_type": "code",
   "execution_count": null,
   "id": "fe89bbcc",
   "metadata": {},
   "outputs": [],
   "source": []
  },
  {
   "cell_type": "code",
   "execution_count": null,
   "id": "d4263b86",
   "metadata": {},
   "outputs": [],
   "source": []
  },
  {
   "cell_type": "code",
   "execution_count": null,
   "id": "fa881dac",
   "metadata": {},
   "outputs": [],
   "source": []
  },
  {
   "cell_type": "code",
   "execution_count": null,
   "id": "f0e59aab",
   "metadata": {},
   "outputs": [],
   "source": []
  }
 ],
 "metadata": {
  "kernelspec": {
   "display_name": "Python 3 (ipykernel)",
   "language": "python",
   "name": "python3"
  },
  "language_info": {
   "codemirror_mode": {
    "name": "ipython",
    "version": 3
   },
   "file_extension": ".py",
   "mimetype": "text/x-python",
   "name": "python",
   "nbconvert_exporter": "python",
   "pygments_lexer": "ipython3",
   "version": "3.9.7"
  }
 },
 "nbformat": 4,
 "nbformat_minor": 5
}
